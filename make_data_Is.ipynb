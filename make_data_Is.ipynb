{
 "cells": [
  {
   "cell_type": "code",
   "execution_count": 14,
   "metadata": {
    "scrolled": true
   },
   "outputs": [],
   "source": [
    "import numpy as np\n",
    "import pandas as pd\n",
    "from matplotlib import pyplot as plt\n",
    "import pickle as pkl\n",
    "from datetime import datetime\n",
    "from tqdm import tqdm\n",
    "\n",
    "#generate random spin configuration. \n",
    "def initial(L):\n",
    "    config = 2*np.random.randint(2, size = (L,L)) - 1 #spin은 +1 or -1\n",
    "    return config\n",
    "\n",
    "\n",
    "#Monte carlo algorithm\n",
    "def mcmh(config, temp):\n",
    "    L = int(np.sqrt(config.size))\n",
    "    x = np.random.randint(0,L)\n",
    "    y = np.random.randint(0,L)\n",
    "    s = config[x,y]  \n",
    "    neigh = config[(x+1)%L, y] + config[x,(y+1)%L] + config[(x-1)%L,y] + config[x,(y-1)%L]\n",
    "    DE = 2 * s * neigh \n",
    "\n",
    "    #accept or reject \n",
    "    if DE < 0:\n",
    "        s *= -1 \n",
    "    elif np.random.rand() < np.exp(- DE*1/temp):\n",
    "        s *= -1 \n",
    "    config[x,y] = s\n",
    "    return config\n",
    "\n",
    "\n",
    "#Calculate energy of given configuration\n",
    "def energy(config):\n",
    "    L = int(np.sqrt(config.size))\n",
    "    H = 0\n",
    "    for i in range(len(config)):\n",
    "        for j in range(len(config)):\n",
    "            x = np.random.randint(0,L)\n",
    "            y = np.random.randint(0,L)\n",
    "            s = config[x,y] \n",
    "            neigh = config[(x+1)%L, y] + config[x,(y+1)%L] + config[(x-1)%L,y] + config[x,(y-1)%L]\n",
    "            H += - neigh * s\n",
    "    return H/4\n",
    "\n",
    "#magnetization\n",
    "def magnetization(config):\n",
    "    magnet = np.sum(config)\n",
    "    return magnet\n",
    "\n",
    "L = 20; #system의 가로or세로 spin의 개수(N = L*L)\n",
    "equilsteps = 1000; #np.power(2,L);?equilibrium으로 만들기 위한 steps\n",
    "mcsteps = 1000; #np.power(2,L);? #mcmh를 몇번 iterate할지 결정\n",
    "\n",
    "dT = 50; #temperature T의 변화 steps\n",
    "T = np.linspace(2.0, 4.0, dT) #관심있는 온도범위(critical temperature ~ 2.269)\n",
    "T2 = np.linspace(2.0, 4.0, dT)\n",
    "\n",
    "n1, n2  = 1.0/(mcsteps*L*L), 1.0/(mcsteps*mcsteps*L*L) \n",
    "\n",
    "def get_sample(L, T):\n",
    "    E, M = 0, 0;\n",
    "    config = initial(L);\n",
    "    for i in range(equilsteps): # spin configuration을 equilbrium state로 만듦.\n",
    "        mcmh(config, T)\n",
    "\n",
    "    for j in range(mcsteps): #spin을 마구 뒤집어가면서 (average)energy, magnetization등을 구함\n",
    "        mcmh(config, T)\n",
    "        Energy = energy(config);\n",
    "        Mag = magnetization(config);\n",
    "\n",
    "        E += Energy;\n",
    "        M += Mag;\n",
    "    return T, E, M, config\n"
   ]
  },
  {
   "cell_type": "code",
   "execution_count": null,
   "metadata": {
    "scrolled": true
   },
   "outputs": [
    {
     "name": "stderr",
     "output_type": "stream",
     "text": [
      " 26%|██▋       | 2642/10000 [1:39:22<4:31:50,  2.22s/it]"
     ]
    }
   ],
   "source": [
    "data3=[]\n",
    "for l in tqdm(range(10000)):\n",
    "    data3.append(get_sample(L, 3))\n",
    "with open('%s_T=3.pkl' %(str(datetime.today())[:10]), 'wb') as f:\n",
    "    pkl.dump(data3, f)"
   ]
  },
  {
   "cell_type": "code",
   "execution_count": null,
   "metadata": {},
   "outputs": [],
   "source": [
    "data5=[]\n",
    "for l in tqdm(range(10000)):\n",
    "    data5.append(get_sample(L, 5))\n",
    "with open('%s_T=5.pkl' %(str(datetime.today())[:10]), 'wb') as f:\n",
    "    pkl.dump(data5, f)"
   ]
  },
  {
   "cell_type": "code",
   "execution_count": null,
   "metadata": {},
   "outputs": [],
   "source": [
    "data1=[]\n",
    "for l in tqdm(range(10000)):\n",
    "    data1.append(get_sample(L, 1))\n",
    "with open('%s_T=1.pkl' %(str(datetime.today())[:10]), 'wb') as f:\n",
    "    pkl.dump(data1, f)"
   ]
  },
  {
   "cell_type": "code",
   "execution_count": 11,
   "metadata": {
    "scrolled": true
   },
   "outputs": [
    {
     "data": {
      "text/plain": [
       "(2,\n",
       " -179219.0,\n",
       " 2968,\n",
       " array([[-1,  1, -1, -1, -1, -1, -1, -1, -1, -1,  1,  1,  1, -1, -1, -1,\n",
       "         -1, -1, -1, -1],\n",
       "        [ 1,  1,  1,  1, -1, -1, -1, -1, -1, -1,  1,  1,  1, -1, -1, -1,\n",
       "         -1, -1, -1, -1],\n",
       "        [ 1,  1,  1, -1, -1, -1, -1, -1,  1, -1,  1,  1,  1, -1, -1, -1,\n",
       "         -1, -1, -1,  1],\n",
       "        [ 1,  1,  1, -1, -1, -1, -1, -1, -1, -1, -1, -1, -1, -1, -1, -1,\n",
       "         -1, -1, -1,  1],\n",
       "        [ 1,  1, -1, -1, -1, -1, -1, -1, -1, -1, -1, -1, -1,  1,  1,  1,\n",
       "         -1, -1,  1,  1],\n",
       "        [ 1,  1,  1, -1, -1, -1, -1, -1, -1, -1, -1, -1,  1,  1,  1, -1,\n",
       "         -1, -1,  1,  1],\n",
       "        [ 1,  1,  1,  1, -1,  1, -1,  1,  1, -1,  1,  1,  1,  1,  1, -1,\n",
       "         -1, -1,  1,  1],\n",
       "        [ 1,  1,  1,  1,  1, -1, -1,  1,  1, -1,  1,  1,  1,  1,  1,  1,\n",
       "          1,  1,  1,  1],\n",
       "        [ 1,  1,  1,  1,  1, -1, -1,  1,  1,  1,  1,  1, -1,  1,  1,  1,\n",
       "          1,  1, -1, -1],\n",
       "        [-1, -1, -1, -1, -1, -1, -1,  1,  1,  1,  1,  1,  1,  1,  1,  1,\n",
       "          1,  1, -1, -1],\n",
       "        [-1, -1, -1, -1, -1, -1,  1,  1,  1,  1, -1,  1,  1,  1,  1, -1,\n",
       "         -1, -1, -1, -1],\n",
       "        [ 1, -1, -1, -1, -1, -1, -1,  1,  1,  1,  1, -1, -1,  1, -1, -1,\n",
       "          1, -1, -1,  1],\n",
       "        [ 1,  1, -1, -1, -1, -1, -1,  1, -1,  1,  1, -1,  1,  1, -1, -1,\n",
       "         -1, -1,  1,  1],\n",
       "        [ 1,  1,  1, -1, -1, -1, -1, -1,  1,  1,  1, -1, -1, -1, -1, -1,\n",
       "          1,  1,  1,  1],\n",
       "        [ 1,  1,  1,  1, -1, -1, -1, -1,  1, -1,  1,  1, -1, -1, -1, -1,\n",
       "          1,  1,  1,  1],\n",
       "        [ 1,  1,  1,  1,  1, -1, -1,  1,  1, -1, -1,  1,  1,  1,  1,  1,\n",
       "          1,  1,  1,  1],\n",
       "        [ 1,  1,  1,  1,  1,  1,  1,  1,  1, -1, -1,  1,  1,  1,  1,  1,\n",
       "          1, -1, -1, -1],\n",
       "        [ 1,  1,  1,  1,  1,  1,  1,  1, -1,  1,  1, -1,  1,  1,  1,  1,\n",
       "         -1, -1, -1, -1],\n",
       "        [-1,  1,  1,  1,  1,  1, -1, -1, -1,  1,  1,  1, -1,  1,  1, -1,\n",
       "         -1, -1, -1, -1],\n",
       "        [-1,  1,  1,  1, -1,  1, -1, -1, -1,  1,  1,  1,  1,  1, -1, -1,\n",
       "         -1, -1, -1, -1]]))"
      ]
     },
     "execution_count": 11,
     "metadata": {},
     "output_type": "execute_result"
    }
   ],
   "source": [
    "get_sample(20, 2)"
   ]
  },
  {
   "cell_type": "code",
   "execution_count": null,
   "metadata": {},
   "outputs": [],
   "source": []
  }
 ],
 "metadata": {
  "kernelspec": {
   "display_name": "Python 3",
   "language": "python",
   "name": "python3"
  },
  "language_info": {
   "codemirror_mode": {
    "name": "ipython",
    "version": 3
   },
   "file_extension": ".py",
   "mimetype": "text/x-python",
   "name": "python",
   "nbconvert_exporter": "python",
   "pygments_lexer": "ipython3",
   "version": "3.7.4"
  }
 },
 "nbformat": 4,
 "nbformat_minor": 4
}
