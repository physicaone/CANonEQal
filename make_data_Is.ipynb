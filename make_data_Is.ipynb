{
 "cells": [
  {
   "cell_type": "code",
   "execution_count": 1,
   "metadata": {
    "scrolled": true
   },
   "outputs": [],
   "source": [
    "import numpy as np\n",
    "import pandas as pd\n",
    "from matplotlib import pyplot as plt\n",
    "import pickle as pkl\n",
    "from datetime import datetime\n",
    "from tqdm import tqdm\n",
    "from functions5 import *\n",
    "\n",
    "#generate random spin configuration. \n",
    "def initial(L):\n",
    "    config = 2*np.random.randint(2, size = (L,L)) - 1 #spin은 +1 or -1\n",
    "    return config\n",
    "\n",
    "\n",
    "#Monte-Carlo argorithm with metropolis-hastings. \n",
    "def mcmh(config, temp):\n",
    "    L = int(np.sqrt(config.size))\n",
    "    for i in range(L**2): #this part is needed to satisfy the definition of one MC sweep.\n",
    "        x = np.random.randint(0,L)\n",
    "        y = np.random.randint(0,L)\n",
    "        s = config[x,y]  \n",
    "        neigh = config[(x+1)%L, y] + config[x,(y+1)%L] + config[(x-1)%L,y] + config[x,(y-1)%L]\n",
    "        DE = 2 * s * neigh \n",
    "\n",
    "        #accept or reject \n",
    "        if DE < 0:\n",
    "            s *= -1 \n",
    "        elif np.random.rand() < np.exp(- DE*1/temp):\n",
    "            s *= -1 \n",
    "        config[x,y] = s\n",
    "#     return config\n",
    "\n",
    "\n",
    "#Calculate energy of given configuration\n",
    "def energy(config):\n",
    "    L = len(config)\n",
    "    E = 0\n",
    "    for i in range(L):\n",
    "        for j in range(L):\n",
    "            s = config[i,j]\n",
    "            neigh = config[(i+1)%L, j] + config[i,(j+1)%L] + config[(i-1)%L,j] + config[i,(j-1)%L] \n",
    "            E += -neigh * s\n",
    "    return E/2\n",
    "\n",
    "#magnetization\n",
    "def magnetization(config):\n",
    "    magnet = np.sum(config)\n",
    "    return magnet\n",
    "\n",
    "def ensemble_magnetization(configuration_set):\n",
    "    L = len(configuration_set)\n",
    "    mag = 0\n",
    "    for i in range(L):\n",
    "        mag += np.sum(configuration_set[i])\n",
    "    return mag/L\n",
    "\n",
    "L = 8; #system의 가로or세로 spin의 개수(N = L*L)\n",
    "equilsteps = 300; #np.power(2,L);?equilibrium으로 만들기 위한 steps\n",
    "# mcsteps = 1000; #np.power(2,L);? #mcmh를 몇번 iterate할지 결정\n",
    "\n",
    "dT = 50; #temperature T의 변화 steps\n",
    "T = np.linspace(2.0, 4.0, dT) #관심있는 온도범위(critical temperature ~ 2.269)\n",
    "T2 = np.linspace(2.0, 4.0, dT)\n",
    "\n",
    "# n1, n2  = 1.0/(mcsteps*L*L), 1.0/(mcsteps*mcsteps*L*L) \n",
    "\n",
    "def get_sample(L, T):\n",
    "    E, M = 0, 0;\n",
    "    config = initial(L);\n",
    "    for i in range(equilsteps): # spin configuration을 equilbrium state로 만듦.\n",
    "        mcmh(config, T)\n",
    "\n",
    "#     Energy = energy(config);\n",
    "#     Mag = magnetization(config);\n",
    "\n",
    "    return T, config\n",
    "\n"
   ]
  },
  {
   "cell_type": "code",
   "execution_count": 14,
   "metadata": {},
   "outputs": [],
   "source": [
    "def get_sample_mean_std(T):\n",
    "    data1=[]\n",
    "    for l in tqdm(range(10000), position=0, leave=True):\n",
    "        data1.append(get_sample(L, T))\n",
    "    data=np.array(data1).transpose()[1]\n",
    "\n",
    "    print(mean_std(data))"
   ]
  },
  {
   "cell_type": "code",
   "execution_count": 2,
   "metadata": {
    "scrolled": true
   },
   "outputs": [],
   "source": [
    "T_list=[1.2, 1.5, 1.85, 2.4, 3.4, 6, 24]"
   ]
  },
  {
   "cell_type": "code",
   "execution_count": 3,
   "metadata": {},
   "outputs": [
    {
     "name": "stderr",
     "output_type": "stream",
     "text": [
      "100%|██████████| 10000/10000 [33:18<00:00,  5.00it/s]\n",
      "100%|██████████| 10000/10000 [33:32<00:00,  4.97it/s]\n",
      "100%|██████████| 10000/10000 [33:14<00:00,  5.01it/s]\n",
      "100%|██████████| 10000/10000 [32:39<00:00,  5.10it/s]\n",
      "100%|██████████| 10000/10000 [31:44<00:00,  5.25it/s]\n",
      "100%|██████████| 10000/10000 [25:52<00:00,  6.44it/s]\n",
      "100%|██████████| 10000/10000 [25:07<00:00,  6.63it/s]\n"
     ]
    }
   ],
   "source": [
    "data1=[]\n",
    "\n",
    "for t in T_list:\n",
    "    for l in tqdm(range(10000)):\n",
    "        data1.append(get_sample(L, t))\n",
    "\n",
    "with open('201015configs.pkl' , 'wb') as f:\n",
    "    pkl.dump(data1, f)"
   ]
  },
  {
   "cell_type": "code",
   "execution_count": 15,
   "metadata": {
    "collapsed": true,
    "jupyter": {
     "outputs_hidden": true,
     "source_hidden": true
    },
    "scrolled": true
   },
   "outputs": [
    {
     "name": "stderr",
     "output_type": "stream",
     "text": [
      "100%|██████████| 10000/10000 [25:16<00:00,  6.59it/s]\n"
     ]
    },
    {
     "name": "stdout",
     "output_type": "stream",
     "text": [
      "(-8.598, 11.496190499465465)\n"
     ]
    }
   ],
   "source": [
    "get_sample_mean_std(15)"
   ]
  },
  {
   "cell_type": "code",
   "execution_count": 21,
   "metadata": {
    "collapsed": true,
    "jupyter": {
     "outputs_hidden": true,
     "source_hidden": true
    }
   },
   "outputs": [
    {
     "name": "stderr",
     "output_type": "stream",
     "text": [
      "100%|██████████| 10000/10000 [26:23<00:00,  6.32it/s]\n"
     ]
    },
    {
     "name": "stdout",
     "output_type": "stream",
     "text": [
      "(-27.4036, 12.546788714248759)\n"
     ]
    }
   ],
   "source": [
    "get_sample_mean_std(5)"
   ]
  },
  {
   "cell_type": "code",
   "execution_count": 16,
   "metadata": {
    "collapsed": true,
    "jupyter": {
     "outputs_hidden": true,
     "source_hidden": true
    }
   },
   "outputs": [
    {
     "name": "stderr",
     "output_type": "stream",
     "text": [
      "100%|██████████| 10000/10000 [25:17<00:00,  6.59it/s]\n"
     ]
    },
    {
     "name": "stdout",
     "output_type": "stream",
     "text": [
      "(-13.2424, 11.514809691870726)\n"
     ]
    }
   ],
   "source": [
    "get_sample_mean_std(10)"
   ]
  },
  {
   "cell_type": "code",
   "execution_count": 17,
   "metadata": {
    "collapsed": true,
    "jupyter": {
     "outputs_hidden": true,
     "source_hidden": true
    }
   },
   "outputs": [
    {
     "name": "stderr",
     "output_type": "stream",
     "text": [
      "100%|██████████| 10000/10000 [25:19<00:00,  6.58it/s]\n"
     ]
    },
    {
     "name": "stdout",
     "output_type": "stream",
     "text": [
      "(-1.4868, 11.363900112197395)\n"
     ]
    }
   ],
   "source": [
    "get_sample_mean_std(100)"
   ]
  },
  {
   "cell_type": "code",
   "execution_count": 18,
   "metadata": {
    "collapsed": true,
    "jupyter": {
     "outputs_hidden": true,
     "source_hidden": true
    }
   },
   "outputs": [
    {
     "name": "stderr",
     "output_type": "stream",
     "text": [
      "100%|██████████| 10000/10000 [25:20<00:00,  6.57it/s]\n"
     ]
    },
    {
     "name": "stdout",
     "output_type": "stream",
     "text": [
      "(-0.1804, 11.319975964638795)\n"
     ]
    }
   ],
   "source": [
    "get_sample_mean_std(1000)"
   ]
  },
  {
   "cell_type": "code",
   "execution_count": 19,
   "metadata": {
    "collapsed": true,
    "jupyter": {
     "outputs_hidden": true,
     "source_hidden": true
    }
   },
   "outputs": [
    {
     "name": "stderr",
     "output_type": "stream",
     "text": [
      "100%|██████████| 10000/10000 [25:26<00:00,  6.55it/s]\n"
     ]
    },
    {
     "name": "stdout",
     "output_type": "stream",
     "text": [
      "(0.1436, 11.249612395100554)\n"
     ]
    }
   ],
   "source": [
    "get_sample_mean_std(10000)"
   ]
  },
  {
   "cell_type": "code",
   "execution_count": 20,
   "metadata": {
    "collapsed": true,
    "jupyter": {
     "outputs_hidden": true,
     "source_hidden": true
    }
   },
   "outputs": [
    {
     "name": "stderr",
     "output_type": "stream",
     "text": [
      "100%|██████████| 10000/10000 [25:43<00:00,  6.48it/s]\n"
     ]
    },
    {
     "name": "stdout",
     "output_type": "stream",
     "text": [
      "(0.0496, 11.565082785695916)\n"
     ]
    }
   ],
   "source": [
    "get_sample_mean_std(100000)"
   ]
  },
  {
   "cell_type": "code",
   "execution_count": null,
   "metadata": {},
   "outputs": [],
   "source": []
  }
 ],
 "metadata": {
  "kernelspec": {
   "display_name": "Python 3",
   "language": "python",
   "name": "python3"
  },
  "language_info": {
   "codemirror_mode": {
    "name": "ipython",
    "version": 3
   },
   "file_extension": ".py",
   "mimetype": "text/x-python",
   "name": "python",
   "nbconvert_exporter": "python",
   "pygments_lexer": "ipython3",
   "version": "3.7.4"
  }
 },
 "nbformat": 4,
 "nbformat_minor": 4
}
