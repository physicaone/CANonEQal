{
 "cells": [
  {
   "cell_type": "code",
   "execution_count": 1,
   "metadata": {},
   "outputs": [],
   "source": [
    "from functions4 import *\n",
    "import pandas as pd\n",
    "import matplotlib.pyplot as plt\n",
    "import matplotlib.gridspec as gridspec\n",
    "%matplotlib inline"
   ]
  },
  {
   "cell_type": "code",
   "execution_count": 2,
   "metadata": {},
   "outputs": [],
   "source": [
    "batch_size = 30 # batch size\n",
    "# n_epochs = 59 # number of epochs\n",
    "lr = 0.01 # learning rate\n",
    "n_hid = 24 # number of neurons in the hidden layer\n",
    "n_vis = 400 # input size\n",
    "momentum = 0.9 # momentum for SGD\n",
    "k = 4 # k for CD-k algorithm\n",
    "init_state = [nn.Parameter(torch.zeros(1, n_vis)),\n",
    "              nn.Parameter(torch.zeros(1, n_hid)),\n",
    "              nn.Parameter(torch.zeros(24,  784))]"
   ]
  },
  {
   "cell_type": "code",
   "execution_count": 3,
   "metadata": {},
   "outputs": [],
   "source": [
    "dataset=pd.read_pickle('dataset/data_4.pkl')"
   ]
  },
  {
   "cell_type": "code",
   "execution_count": 4,
   "metadata": {
    "scrolled": true
   },
   "outputs": [],
   "source": [
    "dataset=dataset.transpose()[0]"
   ]
  },
  {
   "cell_type": "code",
   "execution_count": 5,
   "metadata": {},
   "outputs": [],
   "source": [
    "for i in range(len(dataset)):\n",
    "    dataset[i]=np.array(flatten_list(dataset[i][0]))"
   ]
  },
  {
   "cell_type": "code",
   "execution_count": 6,
   "metadata": {
    "scrolled": true
   },
   "outputs": [],
   "source": [
    "dataset=np.array(list(dataset))"
   ]
  },
  {
   "cell_type": "code",
   "execution_count": 11,
   "metadata": {
    "scrolled": true
   },
   "outputs": [],
   "source": [
    "train_and_get_data(dataset, v_dim=400, h_dim=25, alpha=0.01, num_iter=10)"
   ]
  },
  {
   "cell_type": "code",
   "execution_count": 12,
   "metadata": {},
   "outputs": [],
   "source": [
    "ab=pd.read_pickle('data/2020-09-30_listmky_n_hid=25.pkl')"
   ]
  },
  {
   "cell_type": "code",
   "execution_count": 13,
   "metadata": {},
   "outputs": [
    {
     "data": {
      "text/plain": [
       "[9751, 123, 1]"
      ]
     },
     "execution_count": 13,
     "metadata": {},
     "output_type": "execute_result"
    }
   ],
   "source": [
    "ab"
   ]
  },
  {
   "cell_type": "code",
   "execution_count": null,
   "metadata": {},
   "outputs": [],
   "source": []
  },
  {
   "cell_type": "code",
   "execution_count": 8,
   "metadata": {},
   "outputs": [],
   "source": [
    "dataset=pd.read_pickle('dataset/data_I.pkl')"
   ]
  },
  {
   "cell_type": "code",
   "execution_count": 9,
   "metadata": {},
   "outputs": [],
   "source": [
    "train_set, val_set = torch.utils.data.random_split(dataset, [30000, 0])\n",
    "train_loader = torch.utils.data.DataLoader(train_set,batch_size, drop_last=True)\n"
   ]
  },
  {
   "cell_type": "code",
   "execution_count": 10,
   "metadata": {},
   "outputs": [
    {
     "data": {
      "text/plain": [
       "<torch.utils.data.dataloader.DataLoader at 0x7f9b61a607d0>"
      ]
     },
     "execution_count": 10,
     "metadata": {},
     "output_type": "execute_result"
    }
   ],
   "source": [
    "train_loader"
   ]
  },
  {
   "cell_type": "code",
   "execution_count": 4,
   "metadata": {},
   "outputs": [],
   "source": [
    "import torchvision"
   ]
  },
  {
   "cell_type": "code",
   "execution_count": null,
   "metadata": {},
   "outputs": [],
   "source": [
    "torchvision.datasets."
   ]
  },
  {
   "cell_type": "code",
   "execution_count": 9,
   "metadata": {},
   "outputs": [
    {
     "data": {
      "text/plain": [
       "array([list([[1, 1, 1, 1, 1, 1, 1, 1, 1, 1, 1, 1, -1, 1, 1, 1, 1, 1, 1, 1, 1, 1, 1, 1, 1, 1, 1, 1, 1, 1, 1, 1, 1, 1, 1, 1, 1, 1, 1, 1, -1, 1, 1, 1, 1, 1, 1, 1, 1, 1, 1, -1, -1, 1, 1, 1, 1, 1, -1, 1, -1, 1, 1, 1, 1, 1, 1, 1, 1, 1, 1, 1, 1, 1, -1, -1, 1, -1, -1, -1, -1, 1, -1, 1, 1, 1, 1, 1, 1, 1, 1, 1, 1, 1, 1, -1, 1, -1, -1, -1, -1, -1, -1, -1, 1, 1, 1, 1, 1, 1, 1, 1, -1, -1, -1, -1, -1, -1, -1, -1, -1, -1, -1, -1, -1, 1, 1, 1, -1, -1, 1, 1, 1, 1, -1, -1, -1, -1, -1, -1, -1, -1, -1, -1, -1, -1, -1, -1, -1, 1, 1, 1, 1, 1, -1, -1, -1, -1, -1, -1, -1, -1, -1, -1, -1, -1, -1, -1, -1, -1, 1, -1, -1, -1, -1, -1, -1, -1, -1, 1, -1, -1, -1, -1, -1, -1, -1, -1, -1, 1, -1, -1, -1, -1, -1, -1, 1, 1, 1, 1, -1, -1, 1, -1, -1, -1, -1, -1, 1, 1, -1, -1, -1, -1, -1, -1, -1, 1, 1, -1, -1, -1, -1, -1, -1, -1, 1, 1, -1, -1, -1, -1, 1, -1, -1, -1, 1, 1, 1, 1, 1, -1, -1, -1, -1, -1, 1, 1, 1, -1, -1, -1, -1, -1, -1, -1, 1, 1, 1, 1, 1, -1, -1, -1, -1, -1, 1, 1, 1, -1, -1, 1, -1, -1, -1, -1, 1, -1, 1, -1, -1, -1, -1, -1, 1, 1, 1, 1, 1, 1, -1, -1, -1, -1, -1, 1, 1, -1, -1, -1, -1, -1, -1, -1, 1, -1, -1, -1, 1, 1, -1, 1, -1, -1, 1, 1, -1, -1, -1, -1, -1, -1, -1, 1, 1, -1, -1, -1, 1, 1, 1, 1, 1, 1, 1, 1, 1, 1, -1, -1, -1, -1, -1, -1, -1, -1, -1, 1, 1, 1, 1, 1, 1, 1, 1, 1, 1, 1, 1, -1, 1, 1, 1, 1, 1, 1, 1, 1, 1, 1, 1, 1, 1, 1, 1, 1, 1, 1, 1, 1, 1, 1, 1, 1, 1, 1, 1, 1, 1, 1, 1, 1, -1, 1, 1, 1, 1, 1, 1, 1]]),\n",
       "       2.6918], dtype=object)"
      ]
     },
     "execution_count": 9,
     "metadata": {},
     "output_type": "execute_result"
    }
   ],
   "source": [
    "train_set[0]"
   ]
  },
  {
   "cell_type": "code",
   "execution_count": null,
   "metadata": {
    "scrolled": true
   },
   "outputs": [],
   "source": [
    "train_and_get_data(n_vis=n_vis, n_hid=64, k=4, n_epochs=999, quan=7500, batch_size=batch_size, lr=lr, momentum=momentum)\n",
    "train_and_get_data(n_vis=n_vis, n_hid=64, k=4, n_epochs=999, quan=15000, batch_size=batch_size, lr=lr, momentum=momentum)\n",
    "train_and_get_data(n_vis=n_vis, n_hid=64, k=4, n_epochs=999, quan=30000, batch_size=batch_size, lr=lr, momentum=momentum)\n"
   ]
  },
  {
   "cell_type": "code",
   "execution_count": null,
   "metadata": {
    "scrolled": true
   },
   "outputs": [],
   "source": [
    "train_and_get_data(n_vis=n_vis, n_hid=8, k=4, n_epochs=999, \n",
    "                   quan=15000, batch_size=batch_size, lr=lr, momentum=momentum)\n",
    "train_and_get_data(n_vis=n_vis, n_hid=16, k=4, n_epochs=999, \n",
    "                   quan=15000, batch_size=batch_size, lr=lr, momentum=momentum)                   \n",
    "train_and_get_data(n_vis=n_vis, n_hid=32, k=4, n_epochs=999, \n",
    "                   quan=15000, batch_size=batch_size, lr=lr, momentum=momentum)\n",
    "train_and_get_data(n_vis=n_vis, n_hid=8, k=4, n_epochs=999, \n",
    "                   quan=7500, batch_size=batch_size, lr=lr, momentum=momentum)\n",
    "train_and_get_data(n_vis=n_vis, n_hid=16, k=4, n_epochs=999, \n",
    "                   quan=7500, batch_size=batch_size, lr=lr, momentum=momentum)                   \n",
    "train_and_get_data(n_vis=n_vis, n_hid=32, k=4, n_epochs=999, \n",
    "                   quan=7500, batch_size=batch_size, lr=lr, momentum=momentum)"
   ]
  },
  {
   "cell_type": "code",
   "execution_count": 5,
   "metadata": {},
   "outputs": [],
   "source": [
    "h2_x_60000 = pd.read_pickle('data/2020-08-22_mk_n_hid=2_x_60000.pkl')\n",
    "h4_x_60000 = pd.read_pickle('data/2020-08-22_mk_n_hid=4_x_60000.pkl')\n",
    "h8_x_60000 = pd.read_pickle('data/2020-08-22_mk_n_hid=8_x_60000.pkl')\n",
    "h16_x_60000 = pd.read_pickle('data/2020-08-22_mk_n_hid=16_x_60000.pkl')\n",
    "h32_x_60000 = pd.read_pickle('data/2020-08-22_mk_n_hid=32_x_60000.pkl')\n",
    "h64_x_60000 = pd.read_pickle('data/2020-08-22_mk_n_hid=64_x_60000.pkl')\n",
    "h128_x_60000 = pd.read_pickle('data/2020-08-22_mk_n_hid=128_x_60000.pkl')\n",
    "\n",
    "h2_y_60000 = pd.read_pickle('data/2020-08-22_mk_n_hid=2_y_60000.pkl')\n",
    "h4_y_60000 = pd.read_pickle('data/2020-08-22_mk_n_hid=4_y_60000.pkl')\n",
    "h8_y_60000 = pd.read_pickle('data/2020-08-22_mk_n_hid=8_y_60000.pkl')\n",
    "h16_y_60000 = pd.read_pickle('data/2020-08-22_mk_n_hid=16_y_60000.pkl')\n",
    "h32_y_60000 = pd.read_pickle('data/2020-08-22_mk_n_hid=32_y_60000.pkl')\n",
    "h64_y_60000 = pd.read_pickle('data/2020-08-22_mk_n_hid=64_y_60000.pkl')\n",
    "h128_y_60000 = pd.read_pickle('data/2020-08-22_mk_n_hid=128_y_60000.pkl')\n"
   ]
  },
  {
   "cell_type": "code",
   "execution_count": 13,
   "metadata": {},
   "outputs": [],
   "source": [
    "list_n_hid60000=[2**(i+1) for i in range(7)]\n",
    "\n",
    "listHs60000=[]\n",
    "listHs60000.append(get_H_s(h2_x_60000, h2_y_60000))\n",
    "listHs60000.append(get_H_s(h4_x_60000, h4_y_60000))\n",
    "listHs60000.append(get_H_s(h8_x_60000, h8_y_60000))\n",
    "listHs60000.append(get_H_s(h16_x_60000, h16_y_60000))\n",
    "listHs60000.append(get_H_s(h32_x_60000, h32_y_60000))\n",
    "listHs60000.append(get_H_s(h64_x_60000, h64_y_60000))\n",
    "listHs60000.append(get_H_s(h128_x_60000, h128_y_60000))\n",
    "\n",
    "listHk60000=[]\n",
    "listHk60000.append(get_H_k(h2_x_60000, h2_y_60000))\n",
    "listHk60000.append(get_H_k(h4_x_60000, h4_y_60000))\n",
    "listHk60000.append(get_H_k(h8_x_60000, h8_y_60000))\n",
    "listHk60000.append(get_H_k(h16_x_60000, h16_y_60000))\n",
    "listHk60000.append(get_H_k(h32_x_60000, h32_y_60000))\n",
    "listHk60000.append(get_H_k(h64_x_60000, h64_y_60000))\n",
    "listHk60000.append(get_H_k(h128_x_60000, h128_y_60000))"
   ]
  },
  {
   "cell_type": "code",
   "execution_count": 14,
   "metadata": {},
   "outputs": [],
   "source": [
    "for i in range(len(listHs60000)):\n",
    "#     list_n_hid60000[i]=list_n_hid60000[i]/np.log2(60000)\n",
    "    listHs60000[i]=listHs60000[i]/np.log2(60000)\n",
    "    listHk60000[i]=listHk60000[i]/np.log2(60000)"
   ]
  },
  {
   "cell_type": "code",
   "execution_count": 15,
   "metadata": {},
   "outputs": [
    {
     "data": {
      "image/png": "[encoded data removed]",
      "text/plain": [
       "<Figure size 504x360 with 1 Axes>"
      ]
     },
     "metadata": {
      "needs_background": "light"
     },
     "output_type": "display_data"
    }
   ],
   "source": [
    "plt.figure(figsize=(7,5))\n",
    "\n",
    "    # assist\n",
    "# x_assi1=np.linspace(100, 10000, num=len(listcons2_25)); y_assi1=listcons2_25\n",
    "# x_assi2=np.linspace(100, 10000, num=len(listcons2_50)); y_assi2=listcons2_50\n",
    "# x_assi3=np.linspace(100, 10000, num=len(listcons2_100)); y_assi3=listcons2_100\n",
    "\n",
    "plt.plot(list_n_hid60000, listHs60000, color='red', marker='x')\n",
    "plt.plot(list_n_hid60000, listHk60000, color='red', marker='o')\n",
    "\n",
    "# plt.plot(list_n_hid, listHk_n_hid, color='hotpink', linestyle='dashed')\n",
    "\n",
    "# plt.plot(listN, listcons_50, color='green', marker='.')\n",
    "# plt.plot(listN, listcons_100, color='blue', marker='.')\n",
    "\n",
    "# plt.plot(listN, listcons2_25, color='red', marker='_')\n",
    "# plt.plot(listN, listcons2_50, color='green', marker='_')\n",
    "# plt.plot(listN, listcons2_100, color='blue', marker='_')\n",
    "\n",
    "# plt.plot(x_assi1, y_assi1, color='red', marker='')\n",
    "# plt.plot(x_assi2, y_assi2, color='green', marker='')\n",
    "# plt.plot(x_assi3, y_assi3, color='blue', marker='')\n",
    "\n",
    "plt.xscale('log', basex=2)\n",
    "plt.yscale('log', basey=2)\n",
    "plt.grid(True)\n",
    "plt.legend(['H[s](simul.)(|M| x 1)', 'H[k](simul.)(|M| x 1)',\n",
    "            'H[s](simul.)(|M| x 1/2)', 'H[k](simul.)(|M| x 1/2)',\n",
    "            'H[s](simul.)(|M| x 1/4)', 'H[k](simul.)(|M| x 1/4)',\n",
    "            'H[s](simul.)(|M| x 1/8)', 'H[k](simul.)(|M| x 1/8)'\n",
    "           ],\n",
    "           loc='lower right', bbox_to_anchor=(1.8, 0.01), \n",
    "           ncol=1, fancybox=True, shadow=True)\n",
    "plt.xlabel('$n_{hid}$ / $log_2{N}$', fontsize=20)\n",
    "plt.ylabel('Information entropy / $log_2 {N}$', fontsize=20)\n",
    "plt.title('MNIST')\n",
    "# plt.text(350, 0.1, '~$k^{2.1}$ ', fontsize=20)\n",
    "# plt.text(150, 0.01, '~$k^{-2.4}$', fontsize=20)\n",
    "# plt.text(20, 0.002, '~$k^{-4.1}$', fontsize=20)\n",
    "# plt.text(2000, 4.8, 'n_hid', fontsize=20)\n",
    "plt.rcParams[\"font.size\"] = \"20\"\n",
    "\n",
    "# plt.axis([0, 150, 0, 30])\n",
    "plt.plot()\n",
    "plt.show()"
   ]
  }
 ],
 "metadata": {
  "kernelspec": {
   "display_name": "Python 3",
   "language": "python",
   "name": "python3"
  },
  "language_info": {
   "codemirror_mode": {
    "name": "ipython",
    "version": 3
   },
   "file_extension": ".py",
   "mimetype": "text/x-python",
   "name": "python",
   "nbconvert_exporter": "python",
   "pygments_lexer": "ipython3",
   "version": "3.7.4"
  }
 },
 "nbformat": 4,
 "nbformat_minor": 4
}
