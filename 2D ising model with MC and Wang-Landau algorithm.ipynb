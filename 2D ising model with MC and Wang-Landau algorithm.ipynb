{
 "cells": [
  {
   "cell_type": "markdown",
   "metadata": {},
   "source": [
    "# 2D Ising model with MC. \n",
    "<hr>\n",
    "\n",
    "### theory\n",
    "$$ \n",
    "H = -J\\sum_{<ij>} S_i S_j, S_i = \\pm 1\n",
    "$$\n",
    "Let J = 1 and h = 0 (No external magnetic field). Ferromagnetic behaviour.\n"
   ]
  },
  {
   "cell_type": "markdown",
   "metadata": {},
   "source": [
    "### Packages"
   ]
  },
  {
   "cell_type": "code",
   "execution_count": 29,
   "metadata": {
    "jupyter": {
     "source_hidden": true
    }
   },
   "outputs": [],
   "source": [
    "import numpy as np\n",
    "from matplotlib import pyplot as plt\n",
    "import time"
   ]
  },
  {
   "cell_type": "markdown",
   "metadata": {},
   "source": [
    "### Useful functions\n",
    "random spin configuration generating function, Monte-Carlo function, and true free energy calculating function"
   ]
  },
  {
   "cell_type": "code",
   "execution_count": 1,
   "metadata": {
    "jupyter": {
     "source_hidden": true
    }
   },
   "outputs": [],
   "source": [
    "#make spin configuration with L**2 spins.\n",
    "def initial(L):\n",
    "    config = 2*np.random.randint(2, size = (L,L)) - 1\n",
    "    return config\n",
    "\n",
    "#Monte-Carlo argorithm with metropolis-hastings. \n",
    "def mcmh(config, temp):\n",
    "    L = int(np.sqrt(config.size))\n",
    "    for i in range(L**2): #this part is needed to satisfy the definition of one MC sweep.\n",
    "        x = np.random.randint(0,L)\n",
    "        y = np.random.randint(0,L)\n",
    "        s = config[x,y]  \n",
    "        neigh = config[(x+1)%L, y] + config[x,(y+1)%L] + config[(x-1)%L,y] + config[x,(y-1)%L]\n",
    "        DE = 2 * s * neigh \n",
    "\n",
    "        #accept or reject \n",
    "        if DE < 0:\n",
    "            s *= -1 \n",
    "        elif np.random.rand() < np.exp(- DE*1/temp):\n",
    "            s *= -1 \n",
    "        config[x,y] = s\n",
    "    return config"
   ]
  },
  {
   "cell_type": "markdown",
   "metadata": {},
   "source": [
    "## True free energy calculation"
   ]
  },
  {
   "cell_type": "code",
   "execution_count": 33,
   "metadata": {
    "jupyter": {
     "source_hidden": true
    }
   },
   "outputs": [],
   "source": [
    "# making possible spin configuration using binary number generator\n",
    "def all_config(L): #\n",
    "    configs = []\n",
    "    N = L**2\n",
    "    for i in range(2**N):\n",
    "        a = str(bin(i))\n",
    "        temp = [0] * (N - len(a) + 2)\n",
    "\n",
    "        for j in range(2, len(a)):\n",
    "            temp += [int(a[j])]\n",
    "        configs.append(temp)\n",
    "    configs = np.array(configs)\n",
    "    \n",
    "    all_config = []\n",
    "    for i in range(2**N):\n",
    "        all_config.append(np.ones((L,L)) - 2 * configs[i].reshape(L,L)) #이렇게 하면 +1, -1만으로 이루어진 행렬이 나오게 된다. \n",
    "      \n",
    "    return all_config"
   ]
  },
  {
   "cell_type": "code",
   "execution_count": 34,
   "metadata": {
    "jupyter": {
     "source_hidden": true
    }
   },
   "outputs": [],
   "source": [
    "#true free energy calculation!\n",
    "def true_free_energy(all_configs, temperature):\n",
    "    partition = 0\n",
    "    \n",
    "    for config in all_configs:\n",
    "        partition += np.exp(-config / temperature)\n",
    "    \n",
    "    return - temperature * np.log(partition)"
   ]
  },
  {
   "cell_type": "markdown",
   "metadata": {},
   "source": [
    "## Wang-Landau algorithm"
   ]
  },
  {
   "cell_type": "code",
   "execution_count": 35,
   "metadata": {
    "jupyter": {
     "source_hidden": true
    }
   },
   "outputs": [],
   "source": [
    "#Wang-Landau algorithm\n",
    "#while looping this algorithm, spin config, g(E) nerver be updated.\n",
    "def wang_landau(L):\n",
    "    E = possible_energy_values(L)  \n",
    "    length = len(E) #L**2-1. L이 짝수일 때는 가능한 에너지의 개수는 L**2-1개.\n",
    "    log_modi_factor = 1 #처음엔 f = e. 즉, ln_f = 1\n",
    "    Histogram = np.zeros(length, dtype = float) #가능한 에너지별로 histogram을 만들어준다.\n",
    "    log_gE = np.zeros(length, dtype = float) #처음엔 g(E)=1. 즉, ln_g(E) = 0.   \n",
    "    \n",
    "    config = initial(L) #이 configuration은 loop를 돌리면서 새로 만들지 않는다. \n",
    "    E_initial = energy(config) #처음 configuration의 에너지\n",
    "    \n",
    "    index_E1, index_E2 = [], [] #에너지를 index로 삼아야 한다. \n",
    "    ini_index, cha_index = 0, 0\n",
    "    \n",
    "    count_flat = 0 #이 값이 27이 될때까지 loop를 돌려야 한다.\n",
    "    count_mcsweeps = 0 #1만번 sweep을 돌때마다 histogram이 flat한지 체크한다. \n",
    "    \n",
    "    #making index set\n",
    "    for j in enumerate(E):\n",
    "        index_E1.append(j)\n",
    "    for k in enumerate(E):\n",
    "        index_E2.append(k)\n",
    "    \n",
    "    while count_flat <= 27: \n",
    "        count_mcsweeps += 1\n",
    "        for i in range(L**2): #one MC sweep = randomly pick N(=L**2) spins and change its state(spin flip).\n",
    "            x = np.random.randint(0,L)\n",
    "            y = np.random.randint(0,L)  # 0 ~ L-1의 정수를 랜덤하게 하나 고르는 함수. \n",
    "            s = config[x,y] #a randomly picked spin\n",
    "            s *= -1 #우선 spin을 뒤집자.\n",
    "            \n",
    "            neigh = config[(x+1)%L, y] + config[x,(y+1)%L] + config[(x-1)%L,y] + config[x,(y-1)%L]\n",
    "            DE = -2 * s * neigh #spin을 뒤집기 전과 뒤집은 후 에너지 차이. \n",
    "            E_changed = E_initial + DE #spin을 뒤집었을 때, 그 configuration의 에너지\n",
    "                        \n",
    "            #accept or reject\n",
    "            ##1. Find index of each energies\n",
    "            for component1 in index_E1: #index set for reference energy\n",
    "                if E_initial == component1[1]: \n",
    "                    ini_index = component1[0] \n",
    "\n",
    "            for component2 in index_E2: #index set for changed energy\n",
    "                if E_changed == component2[1]:\n",
    "                    cha_index = component2[0]\n",
    "\n",
    "            ##2. Calculate probability to change spin configuration\n",
    "            p = np.exp(log_gE[ini_index] - log_gE[cha_index])\n",
    "\n",
    "            #np.rand.rand() 0~1 에서 uniformly distributed number를 generate\n",
    "            #만약, g(E_i) >= g(E_f)라면 ln_p = 0. 따라서 무조건 accept. g(E_f) > g(E_i) 인 경우이더라도 매우 낮은 확률로 accept할 수 있는 조건을 반영\n",
    "            if p > np.random.rand(): #spin flip is accepted\n",
    "                s *= 1 #spin flip is accepted. \n",
    "                Histogram[cha_index] += 1 #바뀐 애의 histogram에 1을 더함.\n",
    "                log_gE[cha_index] += log_modi_factor #density of state에 값을 더해줌.\n",
    "                E_initial = E_changed \n",
    "\n",
    "            else: #spin flip is rejected\n",
    "                s *= -1 #spin flip is rejected. 다시 원상태로 돌림\n",
    "                Histogram[ini_index] += 1 #initial value의 histogram에 1을 더함\n",
    "                log_gE[ini_index] += log_modi_factor #density of state에 값을 더해줌. \n",
    "                E_initial = E_initial\n",
    "            \n",
    "            config[x,y] = s\n",
    "        #Is histogream flat? \n",
    "        #all entries is not less than 80% of the average => Hmin이 average의 80%만 넘으면 된다는 의미겠지?\n",
    "        if count_mcsweeps % 10000 == 0:\n",
    "            Havg = np.mean(Histogram)\n",
    "            Hmax = max(Histogram)\n",
    "            Hmin = min(Histogram)\n",
    "\n",
    "            if Havg*0.8 <= Hmin:  \n",
    "                Histogram = np.zeros(length) #reset histogram\n",
    "                log_modi_factor = log_modi_factor/2 #update modification factor \n",
    "                count_flat += 1 \n",
    "    return log_gE"
   ]
  },
  {
   "cell_type": "code",
   "execution_count": 36,
   "metadata": {
    "jupyter": {
     "source_hidden": true
    }
   },
   "outputs": [],
   "source": [
    "def wang_landau_free_energy(log_density_of_state, temperature):\n",
    "    L = int(np.sqrt(len(log_density_of_state) + 1)) #log_density는 길이가 L**2-1. 즉, 이 값이 가로/세로 spin의 수\n",
    "    E = possible_energy_values(L)\n",
    "    log_gE_min = min(log_density_of_state)\n",
    "    log_density_of_state_new = log_density_of_state - log_gE_min\n",
    "    \n",
    "    E_modi = [] #-beta*E term\n",
    "    for i in range(len(E)):\n",
    "        E_modi.append(-E[i]/temperature)\n",
    "    \n",
    "    exponent = log_density_of_state_new + E_modi #이건 list다\n",
    "    frac = 0\n",
    "    \n",
    "    k = len(E)\n",
    "    for j in range(k):\n",
    "        frac += np.exp(exponent[j])\n",
    "        \n",
    "    return -temperature * np.log(frac)"
   ]
  },
  {
   "cell_type": "markdown",
   "metadata": {},
   "source": [
    "#### Subfunctions for Wang-Landau algorithm"
   ]
  },
  {
   "cell_type": "code",
   "execution_count": 37,
   "metadata": {
    "jupyter": {
     "source_hidden": true
    }
   },
   "outputs": [],
   "source": [
    "#energy calculation function(OK)\n",
    "def energy(config):\n",
    "    E = 0\n",
    "    L = len(config)\n",
    "    for i in range(L):\n",
    "        for j in range(L):\n",
    "            s = config[i,j]\n",
    "            neigh = config[(i+1)%L, j] + config[i,(j+1)%L] + config[(i-1)%L,j] + config[i,(j-1)%L] \n",
    "            E += -neigh * s\n",
    "            \n",
    "    return E/2  \n",
    "\n",
    "#all energy values for even L\n",
    "def possible_energy_values(L):\n",
    "    E_min = -2*L**2\n",
    "    E = []\n",
    "    for i in range(L**2+1):\n",
    "        E.append(E_min + 4*i)\n",
    "    E.pop(1)\n",
    "    E.pop(-2) \n",
    "    return E"
   ]
  }
 ],
 "metadata": {
  "kernelspec": {
   "display_name": "Python 3",
   "language": "python",
   "name": "python3"
  },
  "language_info": {
   "codemirror_mode": {
    "name": "ipython",
    "version": 3
   },
   "file_extension": ".py",
   "mimetype": "text/x-python",
   "name": "python",
   "nbconvert_exporter": "python",
   "pygments_lexer": "ipython3",
   "version": "3.8.5"
  }
 },
 "nbformat": 4,
 "nbformat_minor": 4
}
