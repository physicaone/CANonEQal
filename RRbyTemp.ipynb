{
 "cells": [
  {
   "cell_type": "code",
   "execution_count": 1,
   "metadata": {},
   "outputs": [],
   "source": [
    "from functions4 import *\n",
    "import pandas as pd\n",
    "import matplotlib.pyplot as plt\n",
    "import matplotlib.gridspec as gridspec\n",
    "%matplotlib inline"
   ]
  },
  {
   "cell_type": "code",
   "execution_count": 42,
   "metadata": {},
   "outputs": [],
   "source": [
    "Ising1_0=Ising_preprocessing((pd.read_pickle('data/2020-10-04_T=1.pkl')))\n",
    "# Ising3_0=pd.read_pickle('data/2020-10-04_T=3.pkl')\n"
   ]
  },
  {
   "cell_type": "code",
   "execution_count": 43,
   "metadata": {},
   "outputs": [],
   "source": [
    "Ising2_0=Ising_preprocessing((pd.read_pickle('dataset/T=2_0.pkl')))\n",
    "Ising2_1=Ising_preprocessing((pd.read_pickle('dataset/T=2_1.pkl')))\n",
    "Ising2_2=Ising_preprocessing((pd.read_pickle('dataset/T=2_2.pkl')))\n",
    "Ising2_26=Ising_preprocessing((pd.read_pickle('dataset/T=2_26.pkl')))\n",
    "Ising2_3=Ising_preprocessing((pd.read_pickle('dataset/T=2_3.pkl')))\n",
    "Ising2_4=Ising_preprocessing((pd.read_pickle('dataset/T=2_4.pkl')))\n",
    "Ising2_5=Ising_preprocessing((pd.read_pickle('dataset/T=2_5.pkl')))\n"
   ]
  },
  {
   "cell_type": "code",
   "execution_count": null,
   "metadata": {
    "scrolled": true
   },
   "outputs": [
    {
     "name": "stderr",
     "output_type": "stream",
     "text": [
      "100%|██████████| 100/100 [30:07<00:00, 18.07s/it]\n",
      " 40%|████      | 40/100 [12:05<18:14, 18.24s/it]"
     ]
    }
   ],
   "source": [
    "train_and_get_data(Ising2_0, v_dim=400, h_dim=32, alpha=0.01, num_iter=100, filename='T=2.0')\n",
    "train_and_get_data(Ising2_1, v_dim=400, h_dim=32, alpha=0.01, num_iter=100, filename='T=2.1')\n",
    "train_and_get_data(Ising2_2, v_dim=400, h_dim=32, alpha=0.01, num_iter=100, filename='T=2.2')\n",
    "train_and_get_data(Ising2_3, v_dim=400, h_dim=32, alpha=0.01, num_iter=100, filename='T=2.3')\n",
    "train_and_get_data(Ising2_4, v_dim=400, h_dim=32, alpha=0.01, num_iter=100, filename='T=2.4')\n",
    "train_and_get_data(Ising2_5, v_dim=400, h_dim=32, alpha=0.01, num_iter=100, filename='T=2.5')\n",
    "train_and_get_data(Ising2_26, v_dim=400, h_dim=32, alpha=0.01, num_iter=100, filename='T=2.26')"
   ]
  },
  {
   "cell_type": "code",
   "execution_count": 8,
   "metadata": {
    "scrolled": true
   },
   "outputs": [
    {
     "name": "stderr",
     "output_type": "stream",
     "text": [
      "100%|██████████| 100/100 [27:13<00:00, 16.33s/it]\n",
      "100%|██████████| 100/100 [27:07<00:00, 16.28s/it]\n",
      "100%|██████████| 100/100 [27:14<00:00, 16.34s/it]\n",
      "100%|██████████| 100/100 [27:42<00:00, 16.62s/it]\n",
      "100%|██████████| 100/100 [26:58<00:00, 16.18s/it]\n",
      "100%|██████████| 100/100 [26:40<00:00, 16.01s/it]\n",
      "100%|██████████| 100/100 [26:50<00:00, 16.10s/it]\n",
      "100%|██████████| 100/100 [25:06<00:00, 15.07s/it]\n",
      "100%|██████████| 100/100 [25:08<00:00, 15.08s/it]\n",
      "100%|██████████| 100/100 [25:16<00:00, 15.17s/it]\n",
      "100%|██████████| 100/100 [25:17<00:00, 15.18s/it]\n",
      "100%|██████████| 100/100 [25:10<00:00, 15.10s/it]\n",
      "100%|██████████| 100/100 [25:11<00:00, 15.12s/it]\n",
      "100%|██████████| 100/100 [25:12<00:00, 15.13s/it]\n",
      "100%|██████████| 100/100 [24:39<00:00, 14.79s/it]\n",
      "100%|██████████| 100/100 [24:30<00:00, 14.71s/it]\n",
      "100%|██████████| 100/100 [24:27<00:00, 14.68s/it]\n",
      "100%|██████████| 100/100 [24:39<00:00, 14.79s/it]\n",
      "100%|██████████| 100/100 [24:39<00:00, 14.79s/it]\n",
      "100%|██████████| 100/100 [24:59<00:00, 15.00s/it]\n",
      "100%|██████████| 100/100 [26:15<00:00, 15.76s/it]\n"
     ]
    }
   ],
   "source": [
    "for i in range(3):\n",
    "    train_and_get_data(Ising2_0, v_dim=400, h_dim=int(20/(2**(i))), alpha=0.01, num_iter=100, filename='T=2.0')\n",
    "    train_and_get_data(Ising2_1, v_dim=400, h_dim=int(20/(2**(i))), alpha=0.01, num_iter=100, filename='T=2.1')\n",
    "    train_and_get_data(Ising2_2, v_dim=400, h_dim=int(20/(2**(i))), alpha=0.01, num_iter=100, filename='T=2.2')\n",
    "    train_and_get_data(Ising2_3, v_dim=400, h_dim=int(20/(2**(i))), alpha=0.01, num_iter=100, filename='T=2.3')\n",
    "    train_and_get_data(Ising2_4, v_dim=400, h_dim=int(20/(2**(i))), alpha=0.01, num_iter=100, filename='T=2.4')\n",
    "    train_and_get_data(Ising2_5, v_dim=400, h_dim=int(20/(2**(i))), alpha=0.01, num_iter=100, filename='T=2.5')\n",
    "    train_and_get_data(Ising2_26, v_dim=400, h_dim=int(20/(2**(i))), alpha=0.01, num_iter=100, filename='T=2.26')"
   ]
  },
  {
   "cell_type": "code",
   "execution_count": 3,
   "metadata": {},
   "outputs": [
    {
     "name": "stderr",
     "output_type": "stream",
     "text": [
      "100%|██████████| 100/100 [29:44<00:00, 17.85s/it]\n",
      "100%|██████████| 100/100 [27:50<00:00, 16.70s/it]\n",
      "100%|██████████| 100/100 [26:31<00:00, 15.91s/it]\n",
      "100%|██████████| 100/100 [25:57<00:00, 15.57s/it]\n",
      "100%|██████████| 100/100 [26:31<00:00, 15.92s/it]\n",
      "100%|██████████| 100/100 [25:41<00:00, 15.42s/it]\n",
      "100%|██████████| 100/100 [25:45<00:00, 15.46s/it]\n"
     ]
    }
   ],
   "source": [
    "train_and_get_data(Ising1_0, v_dim=400, h_dim=32, alpha=0.01, num_iter=100, filename='T=1.0')\n",
    "train_and_get_data(Ising1_0, v_dim=400, h_dim=20, alpha=0.01, num_iter=100, filename='T=1.0')\n",
    "train_and_get_data(Ising1_0, v_dim=400, h_dim=16, alpha=0.01, num_iter=100, filename='T=1.0')\n",
    "train_and_get_data(Ising1_0, v_dim=400, h_dim=10, alpha=0.01, num_iter=100, filename='T=1.0')\n",
    "train_and_get_data(Ising1_0, v_dim=400, h_dim=8, alpha=0.01, num_iter=100, filename='T=1.0')\n",
    "train_and_get_data(Ising1_0, v_dim=400, h_dim=5, alpha=0.01, num_iter=100, filename='T=1.0')\n",
    "train_and_get_data(Ising1_0, v_dim=400, h_dim=4, alpha=0.01, num_iter=100, filename='T=1.0')\n"
   ]
  },
  {
   "cell_type": "code",
   "execution_count": 7,
   "metadata": {},
   "outputs": [],
   "source": [
    "# T_10x_4=pd.read_pickle('data/2020-10-04_listmkx_n_T=1.0_n_hid=4.pkl')\n",
    "# T_10y_4=pd.read_pickle('data/2020-10-04_listmky_n_T=1.0_n_hid=4.pkl')\n",
    "# T_10x_5=pd.read_pickle('data/2020-10-04_listmkx_n_T=1.0_n_hid=5.pkl')\n",
    "# T_10y_5=pd.read_pickle('data/2020-10-04_listmky_n_T=1.0_n_hid=5.pkl')\n",
    "# T_10x_8=pd.read_pickle('data/2020-10-04_listmkx_n_T=1.0_n_hid=8.pkl')\n",
    "# T_10y_8=pd.read_pickle('data/2020-10-04_listmky_n_T=1.0_n_hid=8.pkl')\n",
    "# T_10x_10=pd.read_pickle('data/2020-10-04_listmkx_n_T=1.0_n_hid=10.pkl')\n",
    "# T_10y_10=pd.read_pickle('data/2020-10-04_listmky_n_T=1.0_n_hid=10.pkl')\n",
    "# T_10x_16=pd.read_pickle('data/2020-10-04_listmkx_n_T=1.0_n_hid=16.pkl')\n",
    "# T_10y_16=pd.read_pickle('data/2020-10-04_listmky_n_T=1.0_n_hid=16.pkl')\n",
    "# T_10x_20=pd.read_pickle('data/2020-10-04_listmkx_n_T=1.0_n_hid=20.pkl')\n",
    "# T_10y_20=pd.read_pickle('data/2020-10-04_listmky_n_T=1.0_n_hid=20.pkl')\n",
    "# T_10x_32=pd.read_pickle('data/2020-10-04_listmkx_n_T=1.0_n_hid=32.pkl')\n",
    "# T_10y_32=pd.read_pickle('data/2020-10-04_listmky_n_T=1.0_n_hid=32.pkl')"
   ]
  },
  {
   "cell_type": "code",
   "execution_count": 8,
   "metadata": {},
   "outputs": [],
   "source": [
    "T_20x_4=pd.read_pickle('data/2020-10-04_listmkx_n_T=2.0_n_hid=4.pkl')\n",
    "T_20y_4=pd.read_pickle('data/2020-10-04_listmky_n_T=2.0_n_hid=4.pkl')\n",
    "T_21x_4=pd.read_pickle('data/2020-10-04_listmkx_n_T=2.1_n_hid=4.pkl')\n",
    "T_21y_4=pd.read_pickle('data/2020-10-04_listmky_n_T=2.1_n_hid=4.pkl')\n",
    "T_22x_4=pd.read_pickle('data/2020-10-04_listmkx_n_T=2.2_n_hid=4.pkl')\n",
    "T_22y_4=pd.read_pickle('data/2020-10-04_listmky_n_T=2.2_n_hid=4.pkl')\n",
    "T_226x_4=pd.read_pickle('data/2020-10-04_listmkx_n_T=2.26_n_hid=4.pkl')\n",
    "T_226y_4=pd.read_pickle('data/2020-10-04_listmky_n_T=2.26_n_hid=4.pkl')\n",
    "T_23x_4=pd.read_pickle('data/2020-10-04_listmkx_n_T=2.3_n_hid=4.pkl')\n",
    "T_23y_4=pd.read_pickle('data/2020-10-04_listmky_n_T=2.3_n_hid=4.pkl')\n",
    "T_24x_4=pd.read_pickle('data/2020-10-04_listmkx_n_T=2.4_n_hid=4.pkl')\n",
    "T_24y_4=pd.read_pickle('data/2020-10-04_listmky_n_T=2.4_n_hid=4.pkl')\n",
    "T_25x_4=pd.read_pickle('data/2020-10-04_listmkx_n_T=2.5_n_hid=4.pkl')\n",
    "T_25y_4=pd.read_pickle('data/2020-10-04_listmky_n_T=2.5_n_hid=4.pkl')"
   ]
  },
  {
   "cell_type": "code",
   "execution_count": 9,
   "metadata": {},
   "outputs": [],
   "source": [
    "T_20x_8=pd.read_pickle('data/2020-10-04_listmkx_n_T=2.0_n_hid=8.pkl')\n",
    "T_20y_8=pd.read_pickle('data/2020-10-04_listmky_n_T=2.0_n_hid=8.pkl')\n",
    "T_21x_8=pd.read_pickle('data/2020-10-04_listmkx_n_T=2.1_n_hid=8.pkl')\n",
    "T_21y_8=pd.read_pickle('data/2020-10-04_listmky_n_T=2.1_n_hid=8.pkl')\n",
    "T_22x_8=pd.read_pickle('data/2020-10-04_listmkx_n_T=2.2_n_hid=8.pkl')\n",
    "T_22y_8=pd.read_pickle('data/2020-10-04_listmky_n_T=2.2_n_hid=8.pkl')\n",
    "T_226x_8=pd.read_pickle('data/2020-10-04_listmkx_n_T=2.26_n_hid=8.pkl')\n",
    "T_226y_8=pd.read_pickle('data/2020-10-04_listmky_n_T=2.26_n_hid=8.pkl')\n",
    "T_23x_8=pd.read_pickle('data/2020-10-04_listmkx_n_T=2.3_n_hid=8.pkl')\n",
    "T_23y_8=pd.read_pickle('data/2020-10-04_listmky_n_T=2.3_n_hid=8.pkl')\n",
    "T_24x_8=pd.read_pickle('data/2020-10-04_listmkx_n_T=2.4_n_hid=8.pkl')\n",
    "T_24y_8=pd.read_pickle('data/2020-10-04_listmky_n_T=2.4_n_hid=8.pkl')\n",
    "T_25x_8=pd.read_pickle('data/2020-10-04_listmkx_n_T=2.5_n_hid=8.pkl')\n",
    "T_25y_8=pd.read_pickle('data/2020-10-04_listmky_n_T=2.5_n_hid=8.pkl')"
   ]
  },
  {
   "cell_type": "code",
   "execution_count": 10,
   "metadata": {},
   "outputs": [],
   "source": [
    "T_20x_16=pd.read_pickle('data/2020-10-04_listmkx_n_T=2.0_n_hid=16.pkl')\n",
    "T_20y_16=pd.read_pickle('data/2020-10-04_listmky_n_T=2.0_n_hid=16.pkl')\n",
    "T_21x_16=pd.read_pickle('data/2020-10-04_listmkx_n_T=2.1_n_hid=16.pkl')\n",
    "T_21y_16=pd.read_pickle('data/2020-10-04_listmky_n_T=2.1_n_hid=16.pkl')\n",
    "T_22x_16=pd.read_pickle('data/2020-10-04_listmkx_n_T=2.2_n_hid=16.pkl')\n",
    "T_22y_16=pd.read_pickle('data/2020-10-04_listmky_n_T=2.2_n_hid=16.pkl')\n",
    "T_226x_16=pd.read_pickle('data/2020-10-04_listmkx_n_T=2.26_n_hid=16.pkl')\n",
    "T_226y_16=pd.read_pickle('data/2020-10-04_listmky_n_T=2.26_n_hid=16.pkl')\n",
    "T_23x_16=pd.read_pickle('data/2020-10-04_listmkx_n_T=2.3_n_hid=16.pkl')\n",
    "T_23y_16=pd.read_pickle('data/2020-10-04_listmky_n_T=2.3_n_hid=16.pkl')\n",
    "T_24x_16=pd.read_pickle('data/2020-10-04_listmkx_n_T=2.4_n_hid=16.pkl')\n",
    "T_24y_16=pd.read_pickle('data/2020-10-04_listmky_n_T=2.4_n_hid=16.pkl')\n",
    "T_25x_16=pd.read_pickle('data/2020-10-04_listmkx_n_T=2.5_n_hid=16.pkl')\n",
    "T_25y_16=pd.read_pickle('data/2020-10-04_listmky_n_T=2.5_n_hid=16.pkl')"
   ]
  },
  {
   "cell_type": "code",
   "execution_count": 11,
   "metadata": {},
   "outputs": [],
   "source": [
    "T_20x_32=pd.read_pickle('data/2020-10-05_listmkx_n_T=2.0_n_hid=32.pkl')\n",
    "T_20y_32=pd.read_pickle('data/2020-10-05_listmky_n_T=2.0_n_hid=32.pkl')\n",
    "T_21x_32=pd.read_pickle('data/2020-10-05_listmkx_n_T=2.1_n_hid=32.pkl')\n",
    "T_21y_32=pd.read_pickle('data/2020-10-05_listmky_n_T=2.1_n_hid=32.pkl')\n",
    "T_22x_32=pd.read_pickle('data/2020-10-05_listmkx_n_T=2.2_n_hid=32.pkl')\n",
    "T_22y_32=pd.read_pickle('data/2020-10-05_listmky_n_T=2.2_n_hid=32.pkl')\n",
    "T_226x_32=pd.read_pickle('data/2020-10-05_listmkx_n_T=2.26_n_hid=32.pkl')\n",
    "T_226y_32=pd.read_pickle('data/2020-10-05_listmky_n_T=2.26_n_hid=32.pkl')\n",
    "T_23x_32=pd.read_pickle('data/2020-10-05_listmkx_n_T=2.3_n_hid=32.pkl')\n",
    "T_23y_32=pd.read_pickle('data/2020-10-05_listmky_n_T=2.3_n_hid=32.pkl')\n",
    "T_24x_32=pd.read_pickle('data/2020-10-05_listmkx_n_T=2.4_n_hid=32.pkl')\n",
    "T_24y_32=pd.read_pickle('data/2020-10-05_listmky_n_T=2.4_n_hid=32.pkl')\n",
    "T_25x_32=pd.read_pickle('data/2020-10-05_listmkx_n_T=2.5_n_hid=32.pkl')\n",
    "T_25y_32=pd.read_pickle('data/2020-10-05_listmky_n_T=2.5_n_hid=32.pkl')"
   ]
  },
  {
   "cell_type": "code",
   "execution_count": 12,
   "metadata": {},
   "outputs": [],
   "source": [
    "T_20x_5=pd.read_pickle('data/2020-10-04_listmkx_n_T=2.0_n_hid=5.pkl')\n",
    "T_20y_5=pd.read_pickle('data/2020-10-04_listmky_n_T=2.0_n_hid=5.pkl')\n",
    "T_21x_5=pd.read_pickle('data/2020-10-04_listmkx_n_T=2.1_n_hid=5.pkl')\n",
    "T_21y_5=pd.read_pickle('data/2020-10-04_listmky_n_T=2.1_n_hid=5.pkl')\n",
    "T_22x_5=pd.read_pickle('data/2020-10-04_listmkx_n_T=2.2_n_hid=5.pkl')\n",
    "T_22y_5=pd.read_pickle('data/2020-10-04_listmky_n_T=2.2_n_hid=5.pkl')\n",
    "T_226x_5=pd.read_pickle('data/2020-10-04_listmkx_n_T=2.26_n_hid=5.pkl')\n",
    "T_226y_5=pd.read_pickle('data/2020-10-04_listmky_n_T=2.26_n_hid=5.pkl')\n",
    "T_23x_5=pd.read_pickle('data/2020-10-04_listmkx_n_T=2.3_n_hid=5.pkl')\n",
    "T_23y_5=pd.read_pickle('data/2020-10-04_listmky_n_T=2.3_n_hid=5.pkl')\n",
    "T_24x_5=pd.read_pickle('data/2020-10-04_listmkx_n_T=2.4_n_hid=5.pkl')\n",
    "T_24y_5=pd.read_pickle('data/2020-10-04_listmky_n_T=2.4_n_hid=5.pkl')\n",
    "T_25x_5=pd.read_pickle('data/2020-10-04_listmkx_n_T=2.5_n_hid=5.pkl')\n",
    "T_25y_5=pd.read_pickle('data/2020-10-04_listmky_n_T=2.5_n_hid=5.pkl')"
   ]
  },
  {
   "cell_type": "code",
   "execution_count": 13,
   "metadata": {},
   "outputs": [],
   "source": [
    "T_20x_10=pd.read_pickle('data/2020-10-04_listmkx_n_T=2.0_n_hid=10.pkl')\n",
    "T_20y_10=pd.read_pickle('data/2020-10-04_listmky_n_T=2.0_n_hid=10.pkl')\n",
    "T_21x_10=pd.read_pickle('data/2020-10-04_listmkx_n_T=2.1_n_hid=10.pkl')\n",
    "T_21y_10=pd.read_pickle('data/2020-10-04_listmky_n_T=2.1_n_hid=10.pkl')\n",
    "T_22x_10=pd.read_pickle('data/2020-10-04_listmkx_n_T=2.2_n_hid=10.pkl')\n",
    "T_22y_10=pd.read_pickle('data/2020-10-04_listmky_n_T=2.2_n_hid=10.pkl')\n",
    "T_226x_10=pd.read_pickle('data/2020-10-04_listmkx_n_T=2.26_n_hid=10.pkl')\n",
    "T_226y_10=pd.read_pickle('data/2020-10-04_listmky_n_T=2.26_n_hid=10.pkl')\n",
    "T_23x_10=pd.read_pickle('data/2020-10-04_listmkx_n_T=2.3_n_hid=10.pkl')\n",
    "T_23y_10=pd.read_pickle('data/2020-10-04_listmky_n_T=2.3_n_hid=10.pkl')\n",
    "T_24x_10=pd.read_pickle('data/2020-10-04_listmkx_n_T=2.4_n_hid=10.pkl')\n",
    "T_24y_10=pd.read_pickle('data/2020-10-04_listmky_n_T=2.4_n_hid=10.pkl')\n",
    "T_25x_10=pd.read_pickle('data/2020-10-04_listmkx_n_T=2.5_n_hid=10.pkl')\n",
    "T_25y_10=pd.read_pickle('data/2020-10-04_listmky_n_T=2.5_n_hid=10.pkl')"
   ]
  },
  {
   "cell_type": "code",
   "execution_count": 14,
   "metadata": {},
   "outputs": [],
   "source": [
    "T_20x_20=pd.read_pickle('data/2020-10-04_listmkx_n_T=2.0_n_hid=20.pkl')\n",
    "T_20y_20=pd.read_pickle('data/2020-10-04_listmky_n_T=2.0_n_hid=20.pkl')\n",
    "T_21x_20=pd.read_pickle('data/2020-10-04_listmkx_n_T=2.1_n_hid=20.pkl')\n",
    "T_21y_20=pd.read_pickle('data/2020-10-04_listmky_n_T=2.1_n_hid=20.pkl')\n",
    "T_22x_20=pd.read_pickle('data/2020-10-04_listmkx_n_T=2.2_n_hid=20.pkl')\n",
    "T_22y_20=pd.read_pickle('data/2020-10-04_listmky_n_T=2.2_n_hid=20.pkl')\n",
    "T_226x_20=pd.read_pickle('data/2020-10-04_listmkx_n_T=2.26_n_hid=20.pkl')\n",
    "T_226y_20=pd.read_pickle('data/2020-10-04_listmky_n_T=2.26_n_hid=20.pkl')\n",
    "T_23x_20=pd.read_pickle('data/2020-10-04_listmkx_n_T=2.3_n_hid=20.pkl')\n",
    "T_23y_20=pd.read_pickle('data/2020-10-04_listmky_n_T=2.3_n_hid=20.pkl')\n",
    "T_24x_20=pd.read_pickle('data/2020-10-04_listmkx_n_T=2.4_n_hid=20.pkl')\n",
    "T_24y_20=pd.read_pickle('data/2020-10-04_listmky_n_T=2.4_n_hid=20.pkl')\n",
    "T_25x_20=pd.read_pickle('data/2020-10-04_listmkx_n_T=2.5_n_hid=20.pkl')\n",
    "T_25y_20=pd.read_pickle('data/2020-10-04_listmky_n_T=2.5_n_hid=20.pkl')"
   ]
  },
  {
   "cell_type": "code",
   "execution_count": null,
   "metadata": {},
   "outputs": [],
   "source": []
  },
  {
   "cell_type": "code",
   "execution_count": 22,
   "metadata": {},
   "outputs": [],
   "source": [
    "list_T=[2.0, 2.1, 2.2, 2.26, 2.3, 2.4, 2.5]\n",
    "\n",
    "listHs_32=[]\n",
    "# listHs_32.append(get_H_s(T_10x_32, T_10y_32))\n",
    "listHs_32.append(get_H_s(T_20x_32, T_20y_32))\n",
    "listHs_32.append(get_H_s(T_21x_32, T_21y_32))\n",
    "listHs_32.append(get_H_s(T_22x_32, T_22y_32))\n",
    "listHs_32.append(get_H_s(T_226x_32, T_226y_32))\n",
    "listHs_32.append(get_H_s(T_23x_32, T_23y_32))\n",
    "listHs_32.append(get_H_s(T_24x_32, T_24y_32))\n",
    "listHs_32.append(get_H_s(T_25x_32, T_25y_32))\n",
    "\n",
    "listHk_32=[]\n",
    "# listHk_32.append(get_H_k(T_10x_32, T_10y_32))\n",
    "listHk_32.append(get_H_k(T_20x_32, T_20y_32))\n",
    "listHk_32.append(get_H_k(T_21x_32, T_21y_32))\n",
    "listHk_32.append(get_H_k(T_22x_32, T_22y_32))\n",
    "listHk_32.append(get_H_k(T_226x_32, T_226y_32))\n",
    "listHk_32.append(get_H_k(T_23x_32, T_23y_32))\n",
    "listHk_32.append(get_H_k(T_24x_32, T_24y_32))\n",
    "listHk_32.append(get_H_k(T_25x_32, T_25y_32))\n",
    "\n",
    "\n",
    "listHs_16=[]\n",
    "# listHs_16.append(get_H_s(T_10x_16, T_10y_16))\n",
    "listHs_16.append(get_H_s(T_20x_16, T_20y_16))\n",
    "listHs_16.append(get_H_s(T_21x_16, T_21y_16))\n",
    "listHs_16.append(get_H_s(T_22x_16, T_22y_16))\n",
    "listHs_16.append(get_H_s(T_226x_16, T_226y_16))\n",
    "listHs_16.append(get_H_s(T_23x_16, T_23y_16))\n",
    "listHs_16.append(get_H_s(T_24x_16, T_24y_16))\n",
    "listHs_16.append(get_H_s(T_25x_16, T_25y_16))\n",
    "\n",
    "listHk_16=[]\n",
    "# listHk_16.append(get_H_k(T_10x_16, T_10y_16))\n",
    "listHk_16.append(get_H_k(T_20x_16, T_20y_16))\n",
    "listHk_16.append(get_H_k(T_21x_16, T_21y_16))\n",
    "listHk_16.append(get_H_k(T_22x_16, T_22y_16))\n",
    "listHk_16.append(get_H_k(T_226x_16, T_226y_16))\n",
    "listHk_16.append(get_H_k(T_23x_16, T_23y_16))\n",
    "listHk_16.append(get_H_k(T_24x_16, T_24y_16))\n",
    "listHk_16.append(get_H_k(T_25x_16, T_25y_16))\n",
    "\n",
    "\n",
    "listHs_8=[]\n",
    "# listHs_8.append(get_H_s(T_10x_8, T_10y_8))\n",
    "listHs_8.append(get_H_s(T_20x_8, T_20y_8))\n",
    "listHs_8.append(get_H_s(T_21x_8, T_21y_8))\n",
    "listHs_8.append(get_H_s(T_22x_8, T_22y_8))\n",
    "listHs_8.append(get_H_s(T_226x_8, T_226y_8))\n",
    "listHs_8.append(get_H_s(T_23x_8, T_23y_8))\n",
    "listHs_8.append(get_H_s(T_24x_8, T_24y_8))\n",
    "listHs_8.append(get_H_s(T_25x_8, T_25y_8))\n",
    "\n",
    "listHk_8=[]\n",
    "# listHk_8.append(get_H_k(T_10x_8, T_10y_8))\n",
    "listHk_8.append(get_H_k(T_20x_8, T_20y_8))\n",
    "listHk_8.append(get_H_k(T_21x_8, T_21y_8))\n",
    "listHk_8.append(get_H_k(T_22x_8, T_22y_8))\n",
    "listHk_8.append(get_H_k(T_226x_8, T_226y_8))\n",
    "listHk_8.append(get_H_k(T_23x_8, T_23y_8))\n",
    "listHk_8.append(get_H_k(T_24x_8, T_24y_8))\n",
    "listHk_8.append(get_H_k(T_25x_8, T_25y_8))\n",
    "\n",
    "\n",
    "listHs_4=[]\n",
    "# listHs_4.append(get_H_s(T_10x_4, T_10y_4))\n",
    "listHs_4.append(get_H_s(T_20x_4, T_20y_4))\n",
    "listHs_4.append(get_H_s(T_21x_4, T_21y_4))\n",
    "listHs_4.append(get_H_s(T_22x_4, T_22y_4))\n",
    "listHs_4.append(get_H_s(T_226x_4, T_226y_4))\n",
    "listHs_4.append(get_H_s(T_23x_4, T_23y_4))\n",
    "listHs_4.append(get_H_s(T_24x_4, T_24y_4))\n",
    "listHs_4.append(get_H_s(T_25x_4, T_25y_4))\n",
    "\n",
    "listHk_4=[]\n",
    "# listHk_4.append(get_H_k(T_10x_4, T_10y_4))\n",
    "listHk_4.append(get_H_k(T_20x_4, T_20y_4))\n",
    "listHk_4.append(get_H_k(T_21x_4, T_21y_4))\n",
    "listHk_4.append(get_H_k(T_22x_4, T_22y_4))\n",
    "listHk_4.append(get_H_k(T_226x_4, T_226y_4))\n",
    "listHk_4.append(get_H_k(T_23x_4, T_23y_4))\n",
    "listHk_4.append(get_H_k(T_24x_4, T_24y_4))\n",
    "listHk_4.append(get_H_k(T_25x_4, T_25y_4))\n",
    "\n",
    "\n",
    "listHs_20=[]\n",
    "# listHs_20.append(get_H_s(T_10x_20, T_10y_20))\n",
    "listHs_20.append(get_H_s(T_20x_20, T_20y_20))\n",
    "listHs_20.append(get_H_s(T_21x_20, T_21y_20))\n",
    "listHs_20.append(get_H_s(T_22x_20, T_22y_20))\n",
    "listHs_20.append(get_H_s(T_226x_20, T_226y_20))\n",
    "listHs_20.append(get_H_s(T_23x_20, T_23y_20))\n",
    "listHs_20.append(get_H_s(T_24x_20, T_24y_20))\n",
    "listHs_20.append(get_H_s(T_25x_20, T_25y_20))\n",
    "\n",
    "listHk_20=[]\n",
    "# listHk_20.append(get_H_k(T_10x_20, T_10y_20))\n",
    "listHk_20.append(get_H_k(T_20x_20, T_20y_20))\n",
    "listHk_20.append(get_H_k(T_21x_20, T_21y_20))\n",
    "listHk_20.append(get_H_k(T_22x_20, T_22y_20))\n",
    "listHk_20.append(get_H_k(T_226x_20, T_226y_20))\n",
    "listHk_20.append(get_H_k(T_23x_20, T_23y_20))\n",
    "listHk_20.append(get_H_k(T_24x_20, T_24y_20))\n",
    "listHk_20.append(get_H_k(T_25x_20, T_25y_20))\n",
    "\n",
    "\n",
    "listHs_10=[]\n",
    "# listHs_10.append(get_H_s(T_10x_10, T_10y_10))\n",
    "listHs_10.append(get_H_s(T_20x_10, T_20y_10))\n",
    "listHs_10.append(get_H_s(T_21x_10, T_21y_10))\n",
    "listHs_10.append(get_H_s(T_22x_10, T_22y_10))\n",
    "listHs_10.append(get_H_s(T_226x_10, T_226y_10))\n",
    "listHs_10.append(get_H_s(T_23x_10, T_23y_10))\n",
    "listHs_10.append(get_H_s(T_24x_10, T_24y_10))\n",
    "listHs_10.append(get_H_s(T_25x_10, T_25y_10))\n",
    "\n",
    "listHk_10=[]\n",
    "# listHk_10.append(get_H_k(T_10x_10, T_10y_10))\n",
    "listHk_10.append(get_H_k(T_20x_10, T_20y_10))\n",
    "listHk_10.append(get_H_k(T_21x_10, T_21y_10))\n",
    "listHk_10.append(get_H_k(T_22x_10, T_22y_10))\n",
    "listHk_10.append(get_H_k(T_226x_10, T_226y_10))\n",
    "listHk_10.append(get_H_k(T_23x_10, T_23y_10))\n",
    "listHk_10.append(get_H_k(T_24x_10, T_24y_10))\n",
    "listHk_10.append(get_H_k(T_25x_10, T_25y_10))\n",
    "\n",
    "\n",
    "\n",
    "listHs_5=[]\n",
    "# listHs_5.append(get_H_s(T_10x_10, T_10y_10))\n",
    "listHs_5.append(get_H_s(T_20x_10, T_20y_10))\n",
    "listHs_5.append(get_H_s(T_21x_10, T_21y_10))\n",
    "listHs_5.append(get_H_s(T_22x_10, T_22y_10))\n",
    "listHs_5.append(get_H_s(T_226x_10, T_226y_10))\n",
    "listHs_5.append(get_H_s(T_23x_10, T_23y_10))\n",
    "listHs_5.append(get_H_s(T_24x_10, T_24y_10))\n",
    "listHs_5.append(get_H_s(T_25x_10, T_25y_10))\n",
    "\n",
    "listHk_5=[]\n",
    "# listHk_5.append(get_H_k(T_10x_5, T_10y_5))\n",
    "listHk_5.append(get_H_k(T_20x_5, T_20y_5))\n",
    "listHk_5.append(get_H_k(T_21x_5, T_21y_5))\n",
    "listHk_5.append(get_H_k(T_22x_5, T_22y_5))\n",
    "listHk_5.append(get_H_k(T_226x_5, T_226y_5))\n",
    "listHk_5.append(get_H_k(T_23x_5, T_23y_5))\n",
    "listHk_5.append(get_H_k(T_24x_5, T_24y_5))\n",
    "listHk_5.append(get_H_k(T_25x_5, T_25y_5))\n"
   ]
  },
  {
   "cell_type": "code",
   "execution_count": 40,
   "metadata": {},
   "outputs": [
    {
     "data": {
      "image/png": "[encoded data removed]",
      "text/plain": [
       "<Figure size 504x360 with 1 Axes>"
      ]
     },
     "metadata": {
      "needs_background": "light"
     },
     "output_type": "display_data"
    }
   ],
   "source": [
    "plt.figure(figsize=(7,5))\n",
    "    # assist\n",
    "# x_assi1=np.linspace(100, 10000, num=len(listcons2_25)); y_assi1=listcons2_25\n",
    "\n",
    "# plt.plot(list_T, listHs_32, color='black', marker='x')\n",
    "# plt.plot(list_T, listHs_20, color='r', marker='x')\n",
    "# plt.plot(list_T, listHs_16, color='r', marker='x')\n",
    "# plt.plot(list_T, listHs_10, color='r', marker='x')\n",
    "# plt.plot(list_T, listHs_8, color='r', marker='x')\n",
    "plt.plot(list_T, listHs_5, color='r', marker='x')\n",
    "# plt.plot(list_T, listHs_4, color='purple', marker='x')\n",
    "\n",
    "# plt.plot(list_T, listHk_32, color='black', marker='x')\n",
    "# plt.plot(list_T, listHk_20, color='r', marker='x')\n",
    "# plt.plot(list_T, listHk_16, color='orange', marker='x')\n",
    "# plt.plot(list_T, listHk_10, color='yellow', marker='x')\n",
    "# plt.plot(list_T, listHk_8, color='g', marker='x')\n",
    "# plt.plot(list_T, listHk_5, color='b', marker='x')\n",
    "# plt.plot(list_T, listHk_4, color='purple', marker='x')\n",
    "\n",
    "# plt.xscale('log', basex=2)\n",
    "# plt.yscale('log', basey=2)\n",
    "plt.grid(True)\n",
    "# plt.legend(['H[s](simul.)(|M| x 1)', 'H[k](simul.)(|M| x 1)',\n",
    "\n",
    "#            ],\n",
    "#            loc='lower right', bbox_to_anchor=(1.8, 0.01), \n",
    "#            ncol=1, fancybox=True, shadow=True)\n",
    "plt.xlabel('temperature', fontsize=20)\n",
    "plt.ylabel('Information entropy', fontsize=20)\n",
    "plt.title('Resolution(n_hid=5)')\n",
    "# plt.text(350, 0.1, '~$k^{2.1}$ ', fontsize=20)\n",
    "plt.rcParams[\"font.size\"] = \"20\"\n",
    "# plt.axis([0, 150, 0, 30])\n",
    "plt.savefig('image/ResVsTemp(n_hid=5).png', dpi=300)\n",
    "plt.plot()\n",
    "plt.show()\n"
   ]
  },
  {
   "cell_type": "code",
   "execution_count": null,
   "metadata": {},
   "outputs": [],
   "source": []
  }
 ],
 "metadata": {
  "kernelspec": {
   "display_name": "Python 3",
   "language": "python",
   "name": "python3"
  },
  "language_info": {
   "codemirror_mode": {
    "name": "ipython",
    "version": 3
   },
   "file_extension": ".py",
   "mimetype": "text/x-python",
   "name": "python",
   "nbconvert_exporter": "python",
   "pygments_lexer": "ipython3",
   "version": "3.7.4"
  }
 },
 "nbformat": 4,
 "nbformat_minor": 4
}
