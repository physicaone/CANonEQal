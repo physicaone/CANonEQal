{
 "cells": [
  {
   "cell_type": "markdown",
   "metadata": {},
   "source": [
    "# 2D Ising model with MC. \n",
    "2020.09.09 Group meeting\n",
    "<hr>\n",
    "\n",
    "## theory\n",
    "$$ \n",
    "H = -J\\sum_{<ij>} S_i S_j, S_i = \\pm 1\n",
    "$$\n",
    "Let J = 1 and h = 0 (No external magnetic field). Ferromagnetic behaviour."
   ]
  },
  {
   "cell_type": "markdown",
   "metadata": {},
   "source": [
    "### Packages"
   ]
  },
  {
   "cell_type": "code",
   "execution_count": 47,
   "metadata": {},
   "outputs": [],
   "source": [
    "import numpy as np\n",
    "#import pandas as pd\n",
    "from matplotlib import pyplot as plt"
   ]
  },
  {
   "cell_type": "markdown",
   "metadata": {},
   "source": [
    "### Useful functions"
   ]
  },
  {
   "cell_type": "code",
   "execution_count": 48,
   "metadata": {},
   "outputs": [],
   "source": [
    "#generate random spin configuration. \n",
    "def initial(L):\n",
    "    config = 2*np.random.randint(2, size = (L,L)) - 1 #spin은 +1 or -1\n",
    "    return config\n",
    "\n",
    "\n",
    "#Monte carlo algorithm\n",
    "def mcmh(config, temp):\n",
    "    L = int(np.sqrt(config.size))\n",
    "    for i in range(L):\n",
    "        for j in range(L):\n",
    "            x = np.random.randint(0,L)\n",
    "            y = np.random.randint(0,L)\n",
    "            s = config[x,y]  \n",
    "            neigh = config[(x+1)%L, y] + config[x,(y+1)%L] + config[(x-1)%L,y] + config[x,(y-1)%L] #4 neibor spins\n",
    "            DE = 2 * s * neigh #E(flip) - E(before)(-가 들어가야 하는데 넣으면 이상하다..)\n",
    "            \n",
    "            #accept and rejection process\n",
    "            if DE < 0:\n",
    "                s *= -1 #flip spin if dE < 0\n",
    "            elif np.random.rand() < np.exp(- DE*1/temp):\n",
    "                s *= -1 #flip spin when dE > 0 only when exp(-dE/T) > random_number with 1 >= random_number >= 0 from detaied balance\n",
    "            config[x,y] = s\n",
    "    return config\n",
    "\n",
    "\n",
    "#Calculate energy of given configuration\n",
    "def energy(config):\n",
    "    L = int(np.sqrt(config.size))\n",
    "    H = 0\n",
    "    for i in range(len(config)):\n",
    "        for j in range(len(config)):\n",
    "            x = np.random.randint(0,L)\n",
    "            y = np.random.randint(0,L)\n",
    "            s = config[x,y] \n",
    "            neigh = config[(x+1)%L, y] + config[x,(y+1)%L] + config[(x-1)%L,y] + config[x,(y-1)%L]\n",
    "            H += - neigh * s\n",
    "    return H/4\n",
    "\n",
    "#magnetization\n",
    "def magnetization(config):\n",
    "    magnet = np.sum(config)\n",
    "    return magnet"
   ]
  },
  {
   "cell_type": "markdown",
   "metadata": {},
   "source": [
    "# testing part to calculate free energy(미완성)\n",
    "\n",
    "$2^{784}$개의 spin configuration을 전부 세는 것은 어떻게? "
   ]
  },
  {
   "cell_type": "code",
   "execution_count": 37,
   "metadata": {},
   "outputs": [],
   "source": [
    "#all possible spin configurations <- 구할 수가 없다... 이전 코드는 small N에 대해서도 에러가 남..\n",
    "#더 쉽게 풀 수 있는 방법...\n",
    "#Z sigma(exp^{-beta * E})"
   ]
  },
  {
   "cell_type": "markdown",
   "metadata": {},
   "source": [
    "### System size and the number of iterations"
   ]
  },
  {
   "cell_type": "code",
   "execution_count": 58,
   "metadata": {},
   "outputs": [],
   "source": [
    "L = 28; #system의 가로or세로 spin의 개수(N = L*L)\n",
    "equilsteps = 1000; #np.power(2,L);?equilibrium으로 만들기 위한 steps\n",
    "mcsteps = 1000; #np.power(2,L);? #mcmh를 몇번 iterate할지 결정\n",
    "\n",
    "dT = 50; #temperature T의 변화 steps\n",
    "T = np.linspace(2.0, 4.0, dT) #관심있는 온도범위(critical temperature ~ 2.269)\n",
    "T2 = np.linspace(2.0, 4.0, dT)\n",
    "\n",
    "n1, n2  = 1.0/(mcsteps*L*L), 1.0/(mcsteps*mcsteps*L*L) "
   ]
  },
  {
   "cell_type": "markdown",
   "metadata": {},
   "source": [
    "## Main1(thermodynamic quantities near critical temperature)\n",
    "$T_c = 2.6918$ <br>\n",
    "$C_v = \\frac{\\partial U}{\\partial T}$ <- 아직 해결하지 못했습니다."
   ]
  },
  {
   "cell_type": "code",
   "execution_count": null,
   "metadata": {},
   "outputs": [],
   "source": [
    "#energy and magnetization\n",
    "EN = []\n",
    "MA = []\n",
    "for tt in range(dT):\n",
    "    E, M = 0, 0;\n",
    "    config = initial(L);\n",
    "    \n",
    "    for i in range(equilsteps): # spin configuration을 equilbrium state로 만듦.\n",
    "        mcmh(config, T[tt])\n",
    "    \n",
    "    for j in range(mcsteps): #spin을 마구 뒤집어가면서 (average)energy, magnetization등을 구함\n",
    "        mcmh(config, T[tt])\n",
    "        Energy = energy(config);\n",
    "        Mag = magnetization(config);\n",
    "        \n",
    "        E += Energy;\n",
    "        M += Mag;\n",
    "        \n",
    "    EN.append(E) #한 spin당 평균 에너지\n",
    "    MA.append(M) #한 spin당 평균 magnetization\n",
    "\n",
    "\n",
    "'''\n",
    "#specific heat\n",
    "Cv = []\n",
    "for i in range(dT-1):\n",
    "    delta = 1/dT;\n",
    "    cv = (EN[i+1] - EN[i])/delta;\n",
    "    Cv.append(cv)\n",
    "'''"
   ]
  },
  {
   "cell_type": "markdown",
   "metadata": {},
   "source": [
    "## Main2(Free energy) - 미완성\n",
    "### 길한씨게 드려야할 정보.."
   ]
  },
  {
   "cell_type": "code",
   "execution_count": 1,
   "metadata": {},
   "outputs": [],
   "source": [
    "#true free energy를 어떻게 하면 찾을 수 있을까?\n",
    "#모든 configuration을 찾는건 미련하다. 2^784개의 comfiguration의 energy를 찾아야 하니까.\n",
    "# transfer matrix를 찾는것도 매우 어려워 보인다..\n",
    "#직접 다 찾는게 좋은 방법인지?"
   ]
  },
  {
   "cell_type": "markdown",
   "metadata": {},
   "source": [
    "## Plots"
   ]
  },
  {
   "cell_type": "code",
   "execution_count": 61,
   "metadata": {},
   "outputs": [
    {
     "data": {
      "image/png": "[encoded data removed]",
      "text/plain": [
       "<Figure size 1296x720 with 2 Axes>"
      ]
     },
     "metadata": {
      "needs_background": "light"
     },
     "output_type": "display_data"
    }
   ],
   "source": [
    "%matplotlib inline\n",
    "f = plt.figure(figsize=(18,10));\n",
    "\n",
    "sp = f.add_subplot(2,2,1);\n",
    "plt.scatter(T, EN, marker = 'o', color = 'red')\n",
    "plt.axvline(x = 2.6918, color = 'limegreen')\n",
    "plt.xlabel(\"T\");\n",
    "plt.ylabel(\"<E>\");\n",
    "plt.axis('tight');\n",
    "\n",
    "sp = f.add_subplot(2,2,2);\n",
    "plt.scatter(T, MA, marker='o', color = 'darkblue')\n",
    "plt.axvline(x = 2.6918, color = 'limegreen')\n",
    "plt.xlabel(\"T\")\n",
    "plt.ylabel(\"<M>\");\n",
    "plt.axis('tight');\n",
    "\n",
    "plt.savefig('energy and magnetization')"
   ]
  },
  {
   "cell_type": "markdown",
   "metadata": {},
   "source": [
    "### Figures"
   ]
  }
 ],
 "metadata": {
  "kernelspec": {
   "display_name": "Python 3",
   "language": "python",
   "name": "python3"
  },
  "language_info": {
   "codemirror_mode": {
    "name": "ipython",
    "version": 3
   },
   "file_extension": ".py",
   "mimetype": "text/x-python",
   "name": "python",
   "nbconvert_exporter": "python",
   "pygments_lexer": "ipython3",
   "version": "3.8.5"
  }
 },
 "nbformat": 4,
 "nbformat_minor": 4
}
